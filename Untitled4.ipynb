{
 "cells": [
  {
   "cell_type": "code",
   "execution_count": null,
   "metadata": {},
   "outputs": [],
   "source": [
    "# create an array where we can store our 4 pictures\n",
    "images = np.zeros((4,784))\n",
    "# and the correct values\n",
    "correct_vals = np.zeros((4,10))\n",
    "\n",
    "# we want to test our images which you saw at the top of this page\n",
    "i = 0\n",
    "for no in [8,0,4,3]:\n",
    "    # read the image\n",
    "    gray = cv2.imread(\"img/blog/own_\"+str(no)+\".png\", cv2.CV_LOAD_IMAGE_GRAYSCALE)\n",
    "\n",
    "    # resize the images and invert it (black background)\n",
    "    gray = cv2.resize(255-gray, (28, 28))\n",
    "\n",
    "    # save the processed images\n",
    "    cv2.imwrite(\"pro-img/image_\"+str(no)+\".png\", gray)\n",
    "    \"\"\"\n",
    "    all images in the training set have an range from 0-1\n",
    "    and not from 0-255 so we divide our flatten images\n",
    "    (a one dimensional vector with our 784 pixels)\n",
    "    to use the same 0-1 based range\n",
    "    \"\"\"\n",
    "    flatten = gray.flatten() / 255.0\n",
    "    \"\"\"\n",
    "    we need to store the flatten image and generate\n",
    "    the correct_vals array\n",
    "    correct_val for the first digit (9) would be\n",
    "    [0,0,0,0,0,0,0,0,0,1]\n",
    "    \"\"\"\n",
    "    images[i] = flatten\n",
    "    correct_val = np.zeros((10))\n",
    "    correct_val[no] = 1\n",
    "    correct_vals[i] = correct_val\n",
    "    i += 1\n",
    "\n",
    "\"\"\"\n",
    "the prediction will be an array with four values,\n",
    "which show the predicted number\n",
    "\"\"\"\n",
    "prediction = tf.argmax(y,1)\n",
    "\"\"\"\n",
    "we want to run the prediction and the accuracy function\n",
    "using our generated arrays (images and correct_vals)\n",
    "\"\"\"\n",
    "print sess.run(prediction, feed_dict={x: images, y_: correct_vals})\n",
    "print sess.run(accuracy, feed_dict={x: images, y_: correct_vals})"
   ]
  }
 ],
 "metadata": {
  "kernelspec": {
   "display_name": "Python 3",
   "language": "python",
   "name": "python3"
  },
  "language_info": {
   "codemirror_mode": {
    "name": "ipython",
    "version": 3
   },
   "file_extension": ".py",
   "mimetype": "text/x-python",
   "name": "python",
   "nbconvert_exporter": "python",
   "pygments_lexer": "ipython3",
   "version": "3.5.4"
  }
 },
 "nbformat": 4,
 "nbformat_minor": 2
}
