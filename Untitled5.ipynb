{
 "cells": [
  {
   "cell_type": "code",
   "execution_count": 2,
   "metadata": {},
   "outputs": [
    {
     "name": "stdout",
     "output_type": "stream",
     "text": [
      "Original array:\n",
      " [  9.3     33.      12.42     7.5236  46.       3.4525   6.    ]\n",
      "New array sorted-> [3.4525000000000001, 6.0, 7.5236000000000001, 9.3000000000000007, 12.42, 33.0, 46.0]\n",
      "Original array-> [  9.3     33.      12.42     7.5236  46.       3.4525   6.    ]\n"
     ]
    }
   ],
   "source": [
    "# Python code to create a sorted copy using \n",
    "# sorted() \n",
    "import numpy as np \n",
    "\n",
    "# Numpy array created \n",
    "a = np.array([9.3, 33, 12.42, 7.5236, 46, 3.4525, 6]) \n",
    "\n",
    "# unsorted array print \n",
    "print('Original array:\\n', a) \n",
    "b = sorted(a) \n",
    "\n",
    "# sorted list returned to b, b type is \n",
    "# <class 'list'> \n",
    "print('New array sorted->', b) \n",
    "\n",
    "# original array no change \n",
    "print('Original array->', a) \n"
   ]
  },
  {
   "cell_type": "code",
   "execution_count": null,
   "metadata": {},
   "outputs": [],
   "source": []
  }
 ],
 "metadata": {
  "kernelspec": {
   "display_name": "Python 3",
   "language": "python",
   "name": "python3"
  },
  "language_info": {
   "codemirror_mode": {
    "name": "ipython",
    "version": 3
   },
   "file_extension": ".py",
   "mimetype": "text/x-python",
   "name": "python",
   "nbconvert_exporter": "python",
   "pygments_lexer": "ipython3",
   "version": "3.5.4"
  }
 },
 "nbformat": 4,
 "nbformat_minor": 2
}
