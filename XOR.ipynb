{
 "cells": [
  {
   "cell_type": "code",
   "execution_count": 15,
   "metadata": {},
   "outputs": [
    {
     "name": "stdout",
     "output_type": "stream",
     "text": [
      "_________________________________________________________________\n",
      "Layer (type)                 Output Shape              Param #   \n",
      "=================================================================\n",
      "flatten_3 (Flatten)          (None, 2)                 0         \n",
      "_________________________________________________________________\n",
      "dense_6 (Dense)              (None, 2)                 6         \n",
      "_________________________________________________________________\n",
      "dense_7 (Dense)              (None, 2)                 6         \n",
      "=================================================================\n",
      "Total params: 12\n",
      "Trainable params: 12\n",
      "Non-trainable params: 0\n",
      "_________________________________________________________________\n",
      "None\n",
      "plotting model\n",
      "epochs: 2000\n",
      "[0.09277923 0.00397155] 0 0\n",
      "[0.00361593 0.11540099] 1 1\n",
      "[0.00865933 0.15793611] 1 1\n",
      "[0.09247398 0.0039941 ] 0 0\n",
      "[0.03585442 0.00067339] 0 0\n",
      "[0.00079218 0.05227074] 1 1\n",
      "[0.0018691  0.07739846] 1 1\n",
      "[0.03580042 0.0006751 ] 0 0\n",
      "[0.01756591 0.00018822] 0 0\n",
      "[0.00024502 0.02892596] 1 1\n",
      "[0.00058785 0.04418322] 1 1\n",
      "[0.01693147 0.00019774] 0 0\n",
      "[9.3783410e-03 6.1686536e-05] 0 0\n",
      "[8.8106775e-05 1.5535428e-02] 1 1\n",
      "[0.00020937 0.02441843] 1 1\n",
      "[9.3783410e-03 6.1686536e-05] 0 0\n",
      "[5.3620376e-03 2.3357059e-05] 0 0\n",
      "[3.2830474e-05 9.1122203e-03] 1 1\n",
      "[7.6309516e-05 1.4526417e-02] 1 1\n",
      "[5.3841821e-03 2.3232986e-05] 0 0\n",
      "[3.5045375e-03 1.0519997e-05] 0 0\n",
      "[1.4782309e-05 5.6495243e-03] 1 1\n",
      "[3.169422e-05 9.163529e-03] 1 1\n",
      "[3.5046439e-03 1.0519526e-05] 0 0\n",
      "[2.6586193e-03 5.8205801e-06] 0 0\n",
      "[7.2257344e-06 4.5501362e-03] 1 1\n",
      "[1.5539985e-05 6.5596579e-03] 1 1\n",
      "[2.5900379e-03 5.9941694e-06] 0 0\n",
      "[2.3702823e-03 3.4319437e-06] 0 0\n",
      "[4.467803e-06 3.606520e-03] 1 1\n",
      "[8.9255727e-06 4.9365424e-03] 1 1\n",
      "[2.2756162e-03 3.5914841e-06] 0 0\n",
      "[2.063365e-03 2.488458e-06] 0 0\n",
      "[2.9806199e-06 3.1623049e-03] 1 1\n",
      "[5.4469515e-06 4.2475406e-03] 1 1\n",
      "[2.1712841e-03 2.3476232e-06] 0 0\n",
      "[2.0013752e-03 1.7818801e-06] 0 0\n",
      "[2.3141513e-06 2.6516984e-03] 1 1\n",
      "[3.5987591e-06 3.8333428e-03] 1 1\n",
      "[1.972686e-03 1.813460e-06] 0 0\n",
      "[]\n",
      "[array([[-0.11839347,  0.13169803],\n",
      "       [ 0.11792041, -0.1313967 ]], dtype=float32), array([-0.00037449,  0.00068051], dtype=float32)]\n",
      "[array([[-57.826084,  62.508434],\n",
      "       [-48.01135 ,  58.29747 ]], dtype=float32), array([ -6.179245, -13.277512], dtype=float32)]\n"
     ]
    },
    {
     "data": {
      "image/png": "[encoded data removed]",
      "text/plain": [
       "<Figure size 432x288 with 1 Axes>"
      ]
     },
     "metadata": {
      "needs_background": "light"
     },
     "output_type": "display_data"
    },
    {
     "data": {
      "image/png": "[encoded data removed]",
      "text/plain": [
       "<Figure size 432x288 with 1 Axes>"
      ]
     },
     "metadata": {
      "needs_background": "light"
     },
     "output_type": "display_data"
    },
    {
     "name": "stdout",
     "output_type": "stream",
     "text": [
      "4/4 [==============================] - 0s 36ms/step\n",
      "loss= 0.004031450487673283   acc = 1.0\n",
      "[[2.0013752e-03 1.7818801e-06]\n",
      " [2.3141513e-06 2.6516984e-03]\n",
      " [3.5987591e-06 3.8333428e-03]\n",
      " [1.9726860e-03 1.8134600e-06]]\n"
     ]
    }
   ],
   "source": [
    "import tensorflow as tf\n",
    "import numpy as np\n",
    "import matplotlib.pyplot as plt\n",
    "from keras import optimizers\n",
    "from keras import regularizers\n",
    "\n",
    "def plot_history(history):\n",
    "    %matplotlib inline\n",
    "    plt.plot(history.history['acc'])\n",
    "    #plt.plot(history.history['val_acc'])\n",
    "    plt.title('model accuracy')\n",
    "    plt.ylabel('accuracy')\n",
    "    plt.xlabel('epoch')\n",
    "    plt.legend(['train', 'test'], loc='upper left')\n",
    "    plt.show()\n",
    "    # summarize history for loss\n",
    "    plt.plot(history.history['loss'])\n",
    "   # plt.plot(history.history['val_loss'])\n",
    "    plt.title('model loss')\n",
    "    plt.ylabel('loss')\n",
    "    plt.xlabel('epoch')\n",
    "    plt.legend(['train', 'test'], loc='upper left')\n",
    "    plt.show()\n",
    "\n",
    "def f():\n",
    "    return 1\n",
    "\n",
    "def XOR_model(type='regression'):\n",
    "    if (type == 'regression' ):\n",
    "        model = tf.keras.Sequential([\n",
    "           tf.keras.layers.Flatten( input_shape=(2,1)),\n",
    "           tf.keras.layers.Dense(2,activation=tf.nn.relu, kernel_regularizer=regularizers.l2(0.05)) ,\n",
    "           tf.keras.layers.Dense(1,activation=tf.keras.activations.sigmoid)])\n",
    "        loss_function='mean_squared_error'\n",
    "        y = np.array([[0.],[1.],[1.],[0.]], dtype=np.float32)\n",
    "        return model , y, loss_function\n",
    "    if (type=='classification'):\n",
    "        model = tf.keras.Sequential([\n",
    "           tf.keras.layers.Flatten( input_shape=(2,1)),\n",
    "           tf.keras.layers.Dense(2,activation=tf.nn.relu, kernel_regularizer=regularizers.l2(0.05)) ,\n",
    "           tf.keras.layers.Dense(2,activation=tf.keras.activations.sigmoid)])\n",
    "        loss_function='categorical_crossentropy'\n",
    "        y = np.array([[1.,0.],[0.,1.],[0.,1.],[1.,0.]], dtype=np.float32)\n",
    "        return model, y, loss_function\n",
    "         \n",
    "X = np.array([[0.,0.],[0.,1.],[1.,0.],[1.,1.]], dtype=np.float32).reshape(4,2,1)\n",
    "#y = np.array([[1.,0.],[0.,1.],[0.,1.],[1.,0.]], dtype=np.float32)\n",
    "#y = np.array([[0.],[1.],[1.],[0.]], dtype=np.float32)\n",
    "\n",
    "#model = tf.keras.Sequential([\n",
    "#    tf.keras.layers.Flatten( input_shape=(2,1)),\n",
    "#    tf.keras.layers.Dense(8,activation=tf.nn.sigmoid, kernel_regularizer=regularizers.l2(0.01)) ,\n",
    "#    tf.keras.layers.Dense(2,activation=tf.nn.relu, kernel_regularizer=regularizers.l2(0.05)) ,\n",
    "#   #tf.keras.layers.Dense(2,activation=tf.nn.softmax)])\n",
    "#    tf.keras.layers.Dense(1,activation=tf.keras.activations.sigmoid)])\n",
    "                                       \n",
    "model,y, loss_function = XOR_model('classification')\n",
    "\n",
    "                                       \n",
    "#model=XOR_model()\n",
    "optimizer=tf.keras.optimizers.Adam(lr=0.005)\n",
    "model.compile(optimizer=optimizer, #'adam',\n",
    "              loss=loss_function, #categorical_crossentropy',\n",
    "              metrics=['accuracy'])\n",
    "print(model.summary())\n",
    "print('plotting model')\n",
    "\n",
    "#kerutils.plot_model(model, to_file='model.png', show_shapes=True, show_layer_names=True)\n",
    "epochs=2000\n",
    "print('epochs:',epochs)\n",
    "#history=model.fit(X, y,  epochs=epochs, batch_size=4,verbose=0)\n",
    "#Y=model.predict(np.array([[0,0],[0,1],[1,0],[1,1]],\"float32\").reshape(4,2,1))\n",
    "#print(Y)\n",
    "\n",
    "for i in range(10):\n",
    "    history=model.fit(X, y,  epochs=epochs, batch_size=4,verbose=0)\n",
    "    Y=model.predict(np.array([[0,0],[0,1],[1,0],[1,1]],\"float32\").reshape(4,2,1))\n",
    "    for j in range(Y.shape[0]):\n",
    "        print(Y[j], np.argmax(Y[j]),np.argmax( y[j]))\n",
    "\n",
    "weights=[]\n",
    "\n",
    "for layer in model.layers:\n",
    "    weights.append(layer.get_weights())\n",
    "    print (weights[-1])\n",
    "\n",
    "plot_history(history)\n",
    "acc=0\n",
    "loss,acc=(model.evaluate(X, y))\n",
    "print(model.metrics_names[0] + \"=\", loss, \" \",model.metrics_names[1], \"=\", acc )\n",
    "\n",
    "Y=model.predict(np.array([[0,0],[0,1],[1,0],[1,1]],\"float32\").reshape(4,2,1))\n",
    "print(Y)\n",
    "\n",
    "X1=np.linspace(-5,5,0.1)\n",
    "Y1=\n",
    "#z=np.array([0,1,2,3) #np.argsort(Y)\n",
    "\n",
    "#for j in range(z.shape[0]):\n",
    "#    for i in reversed(range(z.shape[1])):\n",
    "#       print('prediction=', z[j,i], '  probability=', Y[0,z[j,i]]*100,'%')"
   ]
  },
  {
   "cell_type": "code",
   "execution_count": 2,
   "metadata": {},
   "outputs": [
    {
     "ename": "NameError",
     "evalue": "name 'Y' is not defined",
     "output_type": "error",
     "traceback": [
      "\u001b[0;31m---------------------------------------------------------------------------\u001b[0m",
      "\u001b[0;31mNameError\u001b[0m                                 Traceback (most recent call last)",
      "\u001b[0;32m<ipython-input-2-bd5156f0ff7d>\u001b[0m in \u001b[0;36m<module>\u001b[0;34m\u001b[0m\n\u001b[0;32m----> 1\u001b[0;31m \u001b[0mY\u001b[0m\u001b[0;34m.\u001b[0m\u001b[0mshape\u001b[0m\u001b[0;34m[\u001b[0m\u001b[0;36m0\u001b[0m\u001b[0;34m]\u001b[0m\u001b[0;34m\u001b[0m\u001b[0;34m\u001b[0m\u001b[0m\n\u001b[0m",
      "\u001b[0;31mNameError\u001b[0m: name 'Y' is not defined"
     ]
    }
   ],
   "source": [
    "Y.shape[0]\n"
   ]
  },
  {
   "cell_type": "code",
   "execution_count": null,
   "metadata": {},
   "outputs": [],
   "source": [
    "W=np.zeros((2,2,2))\n",
    "X=np.array([[0,0],[1,0],[0,1],[1,1]])\n",
    "b=np.zeros((2,1,2))\n",
    "print(W[:,:,1].shape,X.shape, b.shape)"
   ]
  },
  {
   "cell_type": "code",
   "execution_count": 11,
   "metadata": {},
   "outputs": [
    {
     "name": "stdout",
     "output_type": "stream",
     "text": [
      "4\n",
      "8\n"
     ]
    }
   ],
   "source": [
    "def g(x):\n",
    "    return x*2\n",
    "\n",
    "print(g(2))\n",
    "a = g(4)\n",
    "print(a)"
   ]
  },
  {
   "cell_type": "code",
   "execution_count": 9,
   "metadata": {},
   "outputs": [
    {
     "name": "stdout",
     "output_type": "stream",
     "text": [
      "4\n"
     ]
    }
   ],
   "source": [
    "def square(n):\n",
    "    return n*n\n",
    "\n",
    "two_squared = square(2)\n",
    "# or print it as before\n",
    "print(square(2))"
   ]
  },
  {
   "cell_type": "code",
   "execution_count": 20,
   "metadata": {},
   "outputs": [
    {
     "name": "stdout",
     "output_type": "stream",
     "text": [
      "[-0.11839347  0.13169803]\n"
     ]
    }
   ],
   "source": [
    "print(weights[1][0][0])\n"
   ]
  },
  {
   "cell_type": "code",
   "execution_count": 49,
   "metadata": {},
   "outputs": [],
   "source": [
    "X1=np.linspace(-5,5,100)\n",
    "Y1=np.dot(weights[1][0][0][0],X1)+weights[1][1][0]\n",
    "Y2=np.dot(weights[1][0][0][1],X1)+weights[1][1][1]"
   ]
  },
  {
   "cell_type": "code",
   "execution_count": 55,
   "metadata": {},
   "outputs": [
    {
     "name": "stdout",
     "output_type": "stream",
     "text": [
      "[[], [array([[-0.11839347,  0.13169803],\n",
      "       [ 0.11792041, -0.1313967 ]], dtype=float32), array([-0.00037449,  0.00068051], dtype=float32)], [array([[-57.826084,  62.508434],\n",
      "       [-48.01135 ,  58.29747 ]], dtype=float32), array([ -6.179245, -13.277512], dtype=float32)]]\n",
      "[ -6.179245 -13.277512]\n",
      "(100,)\n"
     ]
    }
   ],
   "source": [
    "print(weights)\n",
    "print(weights[2][1])\n",
    "print(X1.shape)"
   ]
  },
  {
   "cell_type": "code",
   "execution_count": 50,
   "metadata": {},
   "outputs": [
    {
     "data": {
      "text/plain": [
       "[<matplotlib.lines.Line2D at 0x7f29dc4e4668>]"
      ]
     },
     "execution_count": 50,
     "metadata": {},
     "output_type": "execute_result"
    },
    {
     "data": {
      "image/png": "[encoded data removed]",
      "text/plain": [
       "<Figure size 432x288 with 1 Axes>"
      ]
     },
     "metadata": {
      "needs_background": "light"
     },
     "output_type": "display_data"
    }
   ],
   "source": [
    "plt.plot(X1,Y1)\n",
    "plt.plot(X1,Y2)"
   ]
  },
  {
   "cell_type": "code",
   "execution_count": null,
   "metadata": {},
   "outputs": [],
   "source": []
  }
 ],
 "metadata": {
  "kernelspec": {
   "display_name": "Python 3",
   "language": "python",
   "name": "python3"
  },
  "language_info": {
   "codemirror_mode": {
    "name": "ipython",
    "version": 3
   },
   "file_extension": ".py",
   "mimetype": "text/x-python",
   "name": "python",
   "nbconvert_exporter": "python",
   "pygments_lexer": "ipython3",
   "version": "3.6.7"
  }
 },
 "nbformat": 4,
 "nbformat_minor": 2
}
