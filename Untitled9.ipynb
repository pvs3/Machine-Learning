{
 "cells": [
  {
   "cell_type": "code",
   "execution_count": 5,
   "metadata": {},
   "outputs": [
    {
     "name": "stdout",
     "output_type": "stream",
     "text": [
      "3\n"
     ]
    }
   ],
   "source": [
    "A=1\n",
    "B=2\n",
    "print(A+B)"
   ]
  },
  {
   "cell_type": "code",
   "execution_count": 1,
   "metadata": {},
   "outputs": [
    {
     "name": "stdout",
     "output_type": "stream",
     "text": [
      "[7 2 1 5 4 0 6 8 3]\n",
      "[[7 2 1]\n",
      " [5 4 0]\n",
      " [6 8 3]]\n",
      "69.99999999999996\n",
      "[2 8 7 4 6 0 5 3 1]\n",
      "[[2 8 7]\n",
      " [4 6 0]\n",
      " [5 3 1]]\n",
      "-146.0\n",
      "[1 4 3 6 7 5 8 0 2]\n",
      "[[1 4 3]\n",
      " [6 7 5]\n",
      " [8 0 2]]\n",
      "-41.999999999999986\n",
      "[4 6 8 0 1 5 7 3 2]\n",
      "[[4 6 8]\n",
      " [0 1 5]\n",
      " [7 3 2]]\n",
      "101.99999999999996\n",
      "[5 6 2 0 7 4 1 8 3]\n",
      "[[5 6 2]\n",
      " [0 7 4]\n",
      " [1 8 3]]\n",
      "-44.99999999999999\n",
      "[0 8 2 5 4 3 1 7 6]\n",
      "[[0 8 2]\n",
      " [5 4 3]\n",
      " [1 7 6]]\n",
      "-153.99999999999991\n",
      "[6 1 5 8 7 3 0 2 4]\n",
      "[[6 1 5]\n",
      " [8 7 3]\n",
      " [0 2 4]]\n",
      "180.0\n",
      "[1 4 7 8 2 6 0 3 5]\n",
      "[[1 4 7]\n",
      " [8 2 6]\n",
      " [0 3 5]]\n",
      "0.0\n",
      "[4 2 3 8 5 1 6 7 0]\n",
      "[[4 2 3]\n",
      " [8 5 1]\n",
      " [6 7 0]]\n",
      "61.99999999999995\n",
      "[8 4 2 7 6 1 0 3 5]\n",
      "[[8 4 2]\n",
      " [7 6 1]\n",
      " [0 3 5]]\n",
      "117.99999999999993\n"
     ]
    }
   ],
   "source": [
    "import numpy as np\n",
    "A=np.arange(9).reshape((3,3))\n",
    "for i in range(10):\n",
    "    A=np.ravel(A)\n",
    "    A=np.random.permutation(A)\n",
    "    print(A)\n",
    "    A=A.reshape((3,3))\n",
    "    print(A)\n",
    "    print(np.linalg.det(A))"
   ]
  },
  {
   "cell_type": "code",
   "execution_count": 22,
   "metadata": {},
   "outputs": [
    {
     "name": "stdout",
     "output_type": "stream",
     "text": [
      "3.0\n",
      "6.0\n",
      "2.0\n",
      "-5.0\n"
     ]
    }
   ],
   "source": [
    "A1=np.array([[1,0,0],[1,3,0],[3,2,1]])\n",
    "A2=np.array([[2,0,0],[0,3,0],[3,2,1]])\n",
    "A3=np.array([[2,1,0],[0,1,0],[3,3,1]])\n",
    "A4=np.array([[2,1,0],[0,1,3],[3,3,2]])\n",
    "\n",
    "print(np.linalg.det(A1))\n",
    "print(np.linalg.det(A2))\n",
    "print(np.linalg.det(A3))\n",
    "print(np.linalg.det(A4))"
   ]
  },
  {
   "cell_type": "code",
   "execution_count": 54,
   "metadata": {},
   "outputs": [],
   "source": [
    "def plane(A):\n",
    "    if A.shape != (4,4):\n",
    "        print('dimension error 4*4 expected')\n",
    "    else:\n",
    "        A1=A[1:,1:]\n",
    "        print(np.det(A1))\n",
    "        A2=np.append(A[1:,0].reshape(3,1),A[1:,2:],axis=1)\n",
    "        print(np.det(A2))\n",
    "        A3=np.append(A[1:,0:2],A[1:,3:],axis=1)\n",
    "        print(np.det(A3))\n",
    "        A4=A[1:,0:3]\n",
    "        print(np.det(A4))\n",
    "        "
   ]
  },
  {
   "cell_type": "code",
   "execution_count": 55,
   "metadata": {},
   "outputs": [
    {
     "name": "stdout",
     "output_type": "stream",
     "text": [
      "[[ 0  1  2  3]\n",
      " [ 4  5  6  7]\n",
      " [ 8  9 10 11]\n",
      " [12 13 14 15]]\n"
     ]
    },
    {
     "ename": "AttributeError",
     "evalue": "module 'numpy' has no attribute 'det'",
     "output_type": "error",
     "traceback": [
      "\u001b[1;31m---------------------------------------------------------------------------\u001b[0m",
      "\u001b[1;31mAttributeError\u001b[0m                            Traceback (most recent call last)",
      "\u001b[1;32m<ipython-input-55-a6d93157c94c>\u001b[0m in \u001b[0;36m<module>\u001b[1;34m()\u001b[0m\n\u001b[0;32m      1\u001b[0m \u001b[0mA\u001b[0m\u001b[1;33m=\u001b[0m\u001b[0mnp\u001b[0m\u001b[1;33m.\u001b[0m\u001b[0marange\u001b[0m\u001b[1;33m(\u001b[0m\u001b[1;36m16\u001b[0m\u001b[1;33m)\u001b[0m\u001b[1;33m.\u001b[0m\u001b[0mreshape\u001b[0m\u001b[1;33m(\u001b[0m\u001b[1;33m(\u001b[0m\u001b[1;36m4\u001b[0m\u001b[1;33m,\u001b[0m\u001b[1;36m4\u001b[0m\u001b[1;33m)\u001b[0m\u001b[1;33m)\u001b[0m\u001b[1;33m\u001b[0m\u001b[0m\n\u001b[0;32m      2\u001b[0m \u001b[0mprint\u001b[0m\u001b[1;33m(\u001b[0m\u001b[0mA\u001b[0m\u001b[1;33m)\u001b[0m\u001b[1;33m\u001b[0m\u001b[0m\n\u001b[1;32m----> 3\u001b[1;33m \u001b[0mplane\u001b[0m\u001b[1;33m(\u001b[0m\u001b[0mA\u001b[0m\u001b[1;33m)\u001b[0m\u001b[1;33m\u001b[0m\u001b[0m\n\u001b[0m",
      "\u001b[1;32m<ipython-input-54-47e6c3be68bf>\u001b[0m in \u001b[0;36mplane\u001b[1;34m(A)\u001b[0m\n\u001b[0;32m      4\u001b[0m     \u001b[1;32melse\u001b[0m\u001b[1;33m:\u001b[0m\u001b[1;33m\u001b[0m\u001b[0m\n\u001b[0;32m      5\u001b[0m         \u001b[0mA1\u001b[0m\u001b[1;33m=\u001b[0m\u001b[0mA\u001b[0m\u001b[1;33m[\u001b[0m\u001b[1;36m1\u001b[0m\u001b[1;33m:\u001b[0m\u001b[1;33m,\u001b[0m\u001b[1;36m1\u001b[0m\u001b[1;33m:\u001b[0m\u001b[1;33m]\u001b[0m\u001b[1;33m\u001b[0m\u001b[0m\n\u001b[1;32m----> 6\u001b[1;33m         \u001b[0mprint\u001b[0m\u001b[1;33m(\u001b[0m\u001b[0mnp\u001b[0m\u001b[1;33m.\u001b[0m\u001b[0mdet\u001b[0m\u001b[1;33m(\u001b[0m\u001b[0mA1\u001b[0m\u001b[1;33m)\u001b[0m\u001b[1;33m)\u001b[0m\u001b[1;33m\u001b[0m\u001b[0m\n\u001b[0m\u001b[0;32m      7\u001b[0m         \u001b[0mA2\u001b[0m\u001b[1;33m=\u001b[0m\u001b[0mnp\u001b[0m\u001b[1;33m.\u001b[0m\u001b[0mappend\u001b[0m\u001b[1;33m(\u001b[0m\u001b[0mA\u001b[0m\u001b[1;33m[\u001b[0m\u001b[1;36m1\u001b[0m\u001b[1;33m:\u001b[0m\u001b[1;33m,\u001b[0m\u001b[1;36m0\u001b[0m\u001b[1;33m]\u001b[0m\u001b[1;33m.\u001b[0m\u001b[0mreshape\u001b[0m\u001b[1;33m(\u001b[0m\u001b[1;36m3\u001b[0m\u001b[1;33m,\u001b[0m\u001b[1;36m1\u001b[0m\u001b[1;33m)\u001b[0m\u001b[1;33m,\u001b[0m\u001b[0mA\u001b[0m\u001b[1;33m[\u001b[0m\u001b[1;36m1\u001b[0m\u001b[1;33m:\u001b[0m\u001b[1;33m,\u001b[0m\u001b[1;36m2\u001b[0m\u001b[1;33m:\u001b[0m\u001b[1;33m]\u001b[0m\u001b[1;33m,\u001b[0m\u001b[0maxis\u001b[0m\u001b[1;33m=\u001b[0m\u001b[1;36m1\u001b[0m\u001b[1;33m)\u001b[0m\u001b[1;33m\u001b[0m\u001b[0m\n\u001b[0;32m      8\u001b[0m         \u001b[0mprint\u001b[0m\u001b[1;33m(\u001b[0m\u001b[0mnp\u001b[0m\u001b[1;33m.\u001b[0m\u001b[0mdet\u001b[0m\u001b[1;33m(\u001b[0m\u001b[0mA2\u001b[0m\u001b[1;33m)\u001b[0m\u001b[1;33m)\u001b[0m\u001b[1;33m\u001b[0m\u001b[0m\n",
      "\u001b[1;31mAttributeError\u001b[0m: module 'numpy' has no attribute 'det'"
     ]
    }
   ],
   "source": [
    "A=np.arange(16).reshape((4,4))\n",
    "print(A)\n",
    "plane(A)"
   ]
  },
  {
   "cell_type": "code",
   "execution_count": 48,
   "metadata": {},
   "outputs": [
    {
     "name": "stdout",
     "output_type": "stream",
     "text": [
      "(3,)\n"
     ]
    }
   ],
   "source": [
    "print(A[1:,0].T.shape)"
   ]
  },
  {
   "cell_type": "code",
   "execution_count": 49,
   "metadata": {},
   "outputs": [
    {
     "name": "stdout",
     "output_type": "stream",
     "text": [
      "[[ 4]\n",
      " [ 8]\n",
      " [12]]\n"
     ]
    }
   ],
   "source": [
    "B=A[1:,0].reshape(3,1)\n",
    "print(B)"
   ]
  },
  {
   "cell_type": "code",
   "execution_count": null,
   "metadata": {},
   "outputs": [],
   "source": []
  }
 ],
 "metadata": {
  "kernelspec": {
   "display_name": "Python 3",
   "language": "python",
   "name": "python3"
  },
  "language_info": {
   "codemirror_mode": {
    "name": "ipython",
    "version": 3
   },
   "file_extension": ".py",
   "mimetype": "text/x-python",
   "name": "python",
   "nbconvert_exporter": "python",
   "pygments_lexer": "ipython3",
   "version": "3.7.0"
  }
 },
 "nbformat": 4,
 "nbformat_minor": 2
}
