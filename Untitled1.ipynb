{
 "cells": [
  {
   "cell_type": "code",
   "execution_count": 103,
   "metadata": {},
   "outputs": [],
   "source": [
    "import numpy as np\n",
    "\n",
    "def sigmoid(x):\n",
    "    return(1.0/(10.+np.exp(-x)))\n",
    "\n",
    "def sigmoid_derivative(x):\n",
    "    return x*(1-x)\n",
    "\n",
    "def sigmoid1(x):\n",
    "    return x"
   ]
  },
  {
   "cell_type": "code",
   "execution_count": 104,
   "metadata": {},
   "outputs": [],
   "source": [
    "class NeuralNetwork:\n",
    "    def __init__(self,x,y, eta=0.03):\n",
    "        self.input=x\n",
    "        self.y=y  \n",
    "        self.eta=eta\n",
    "        self.weights1=np.random.rand(x.shape[1],4)\n",
    "        self.bias1=np.random.rand(1,4)\n",
    "        self.weights2=np.random.rand(4,y.shape[1])\n",
    "        self.bias2=np.random.rand(y.shape[1])\n",
    "        self.output=np.zeros(y.shape)\n",
    "        #print(self.weights1)\n",
    "        #print(\"-------------------\")\n",
    "        #print(self.weights2)\n",
    "      \n",
    "        \n",
    "    def feedforward(self, debug=False):\n",
    "        self.layer1=sigmoid(np.dot(self.input, self.weights1)+self.bias1)\n",
    "        self.output=sigmoid(np.dot(self.layer1, self.weights2)+self.bias2)\n",
    "        if (debug):\n",
    "            print(\"layer1\")\n",
    "            print(self.input)\n",
    "            print(\"\\n\",self.weights1)\n",
    "            print(\"\\n\",self.bias1)\n",
    "            print(\"\\n\",self.layer1)\n",
    "            print(\"\\n--------\")\n",
    "            print(\"layer2\")\n",
    "            print(self.weights2)\n",
    "            print(\"\\n\", self.bias2)\n",
    "            print(\"\\n\",self.output)\n",
    "        return self.output\n",
    " \n",
    "\n",
    "    def backprop(self):\n",
    "        d_weights2=np.dot(self.layer1.T,2*(self.y-self.output)*sigmoid_derivative(self.output))\n",
    "        d_weights1=np.dot(self.input.T,np.dot(2*(self.y-self.output)*sigmoid_derivative(self.output),self.weights2.T)*sigmoid_derivative(self.layer1))\n",
    "        self.weights1 += d_weights1 * self.eta\n",
    "        self.weights2 += d_weights2 * self.eta\n",
    "    \n",
    "    def train(self, debug=False):\n",
    "        self.output=self.feedforward(debug)\n",
    "       # self.backprop()\n",
    "        self.loss=np.mean(np.square(self.y-self.output))\n"
   ]
  },
  {
   "cell_type": "code",
   "execution_count": 105,
   "metadata": {},
   "outputs": [],
   "source": [
    "def debug():\n",
    "    print(\"input:\",nn.input.shape)\n",
    "    print(\"weights1:\", nn.weights1.shape)\n",
    "    print(\"weights1:\")\n",
    "    print(nn.weights1)\n",
    "    print(\"weights2:\", nn.weights2.shape)\n",
    "    print(\"weights2:\")\n",
    "    print(nn.weights2)\n",
    "    print(\"layer1:\", nn.layer1.shape)\n",
    "    print(\"layer1:\")\n",
    "    print(nn.layer1)\n",
    "    print(\"output:\", nn.output.shape)\n",
    "    print(\"output:\")\n",
    "    print(nn.output)\n",
    "    print(\"---------------------------\")"
   ]
  },
  {
   "cell_type": "code",
   "execution_count": 106,
   "metadata": {},
   "outputs": [
    {
     "name": "stdout",
     "output_type": "stream",
     "text": [
      "layer1\n",
      "[[1 0 0 0]\n",
      " [1 1 0 0]\n",
      " [0 1 0 0]\n",
      " [0 0 0 0]]\n",
      "\n",
      " [[ 0.21267755  0.9564394   0.05283667  0.26230569]\n",
      " [ 0.18927106  0.06916935  0.66138747  0.71081243]\n",
      " [ 0.04582063  0.97237378  0.14642044  0.8445948 ]\n",
      " [ 0.02875451  0.22612765  0.67493634  0.95571691]]\n",
      "\n",
      " [[ 0.96199645  0.41689508  0.59872955  0.24883812]]\n",
      "\n",
      " [[ 1.174674    1.37333448  0.65156622  0.51114381]\n",
      " [ 1.36394506  1.44250383  1.31295368  1.22195624]\n",
      " [ 1.15126751  0.48606443  1.26011701  0.95965056]\n",
      " [ 0.96199645  0.41689508  0.59872955  0.24883812]]\n",
      "\n",
      "--------\n",
      "layer2\n",
      "[[ 0.10210614]\n",
      " [ 0.82503413]\n",
      " [ 0.68835645]\n",
      " [ 0.06312539]]\n",
      "\n",
      " [ 0.36545669]\n",
      "\n",
      " [[ 2.0992219 ]\n",
      " [ 2.67575535]\n",
      " [ 1.8120159 ]\n",
      " [ 1.23548245]]\n",
      "loss: 2.63843555008\n",
      "output [[1]\n",
      " [0]\n",
      " [1]\n",
      " [0]]\n",
      "predicted output [[ 2.0992219 ]\n",
      " [ 2.67575535]\n",
      " [ 1.8120159 ]\n",
      " [ 1.23548245]]\n"
     ]
    }
   ],
   "source": [
    "x=np.array(([1,0,0,0],  [1,1,0,0], [0,1,0,0], [0,0,0,0]))\n",
    "y=np.array(([1],[0], [1], [0]))\n",
    "nn=NeuralNetwork(x,y)\n",
    "for i in range(1): #range(100):\n",
    "    nn.train(debug=True)\n",
    "   # print(\"output\",nn.y)\n",
    "   # print(\"predicted output\",nn.output)\n",
    "    print(\"loss:\", nn.loss)\n",
    "\n",
    "print(\"output\",nn.y)\n",
    "print(\"predicted output\",nn.output)\n"
   ]
  },
  {
   "cell_type": "code",
   "execution_count": 112,
   "metadata": {},
   "outputs": [
    {
     "data": {
      "text/plain": [
       "2.094671"
      ]
     },
     "execution_count": 112,
     "metadata": {},
     "output_type": "execute_result"
    }
   ],
   "source": [
    "1.17*0.102+1.37*0.825+0.651*0.688+0.511*0.063+0.365\n"
   ]
  },
  {
   "cell_type": "code",
   "execution_count": 107,
   "metadata": {},
   "outputs": [
    {
     "name": "stdout",
     "output_type": "stream",
     "text": [
      "[[ 0.21267755  0.9564394   0.05283667  0.26230569]\n",
      " [ 0.18927106  0.06916935  0.66138747  0.71081243]\n",
      " [ 0.04582063  0.97237378  0.14642044  0.8445948 ]\n",
      " [ 0.02875451  0.22612765  0.67493634  0.95571691]]\n"
     ]
    }
   ],
   "source": [
    "print(nn.weights1)"
   ]
  },
  {
   "cell_type": "code",
   "execution_count": 108,
   "metadata": {},
   "outputs": [
    {
     "name": "stdout",
     "output_type": "stream",
     "text": [
      "[[ 1.174674    1.37333448  0.65156622  0.51114381]\n",
      " [ 1.36394506  1.44250383  1.31295368  1.22195624]\n",
      " [ 1.15126751  0.48606443  1.26011701  0.95965056]\n",
      " [ 0.96199645  0.41689508  0.59872955  0.24883812]]\n"
     ]
    }
   ],
   "source": [
    "print(nn.layer1)"
   ]
  },
  {
   "cell_type": "code",
   "execution_count": 109,
   "metadata": {},
   "outputs": [
    {
     "name": "stdout",
     "output_type": "stream",
     "text": [
      "[[ 0.10210614]\n",
      " [ 0.82503413]\n",
      " [ 0.68835645]\n",
      " [ 0.06312539]]\n"
     ]
    }
   ],
   "source": [
    "print(nn.weights2)"
   ]
  },
  {
   "cell_type": "code",
   "execution_count": 110,
   "metadata": {},
   "outputs": [
    {
     "name": "stdout",
     "output_type": "stream",
     "text": [
      "(4, 4)\n"
     ]
    }
   ],
   "source": [
    "print(nn.input.shape)"
   ]
  },
  {
   "cell_type": "code",
   "execution_count": 111,
   "metadata": {},
   "outputs": [
    {
     "name": "stdout",
     "output_type": "stream",
     "text": [
      "[[1]\n",
      " [0]\n",
      " [1]\n",
      " [0]]\n",
      "(4, 1)\n"
     ]
    }
   ],
   "source": [
    "print(y)\n",
    "print(y.shape)\n"
   ]
  },
  {
   "cell_type": "code",
   "execution_count": null,
   "metadata": {},
   "outputs": [],
   "source": []
  }
 ],
 "metadata": {
  "kernelspec": {
   "display_name": "Python 3",
   "language": "python",
   "name": "python3"
  },
  "language_info": {
   "codemirror_mode": {
    "name": "ipython",
    "version": 3
   },
   "file_extension": ".py",
   "mimetype": "text/x-python",
   "name": "python",
   "nbconvert_exporter": "python",
   "pygments_lexer": "ipython3",
   "version": "3.5.4"
  }
 },
 "nbformat": 4,
 "nbformat_minor": 2
}
